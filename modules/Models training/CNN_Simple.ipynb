{
 "cells": [
  {
   "cell_type": "code",
   "execution_count": null,
   "metadata": {
    "colab": {
     "base_uri": "https://localhost:8080/"
    },
    "id": "UcrsHlbhZiWr",
    "outputId": "f965dde8-55b7-4f45-8437-bb7919a34312"
   },
   "outputs": [
    {
     "output_type": "stream",
     "name": "stdout",
     "text": [
      "Mounted at /content/drive\n"
     ]
    }
   ],
   "source": [
    "from google.colab import drive\n",
    "drive.mount('/content/drive')"
   ]
  },
  {
   "cell_type": "code",
   "execution_count": null,
   "metadata": {
    "id": "EClm9cse0War"
   },
   "outputs": [],
   "source": [
    "import pandas as pd"
   ]
  },
  {
   "cell_type": "markdown",
   "metadata": {
    "id": "lj7ojRWRQGCz"
   },
   "source": [
    "##Preporocess images"
   ]
  },
  {
   "cell_type": "code",
   "execution_count": null,
   "metadata": {
    "id": "CSd037WUfFY5"
   },
   "outputs": [],
   "source": [
    "import numpy as np\n",
    "import tensorflow as tf\n",
    "from tensorflow.keras.utils import Sequence\n",
    "from PIL import UnidentifiedImageError\n",
    "\n",
    "class DataGenerator(Sequence):\n",
    "    def __init__(self, image_paths, labels, batch_size=32, img_size=(150, 150), n_classes=5, shuffle=True):\n",
    "        self.image_paths = image_paths\n",
    "        self.labels = labels\n",
    "        self.batch_size = batch_size\n",
    "        self.img_size = img_size\n",
    "        self.n_classes = n_classes\n",
    "        self.shuffle = shuffle\n",
    "        self.on_epoch_end()\n",
    "\n",
    "    def __len__(self):\n",
    "        return int(np.floor(len(self.image_paths) / self.batch_size))\n",
    "\n",
    "    def __getitem__(self, index):\n",
    "        indexes = self.indexes[index * self.batch_size:(index + 1) * self.batch_size]\n",
    "        image_paths_temp = [self.image_paths[k] for k in indexes]\n",
    "        labels_temp = [self.labels[k] for k in indexes]\n",
    "\n",
    "        X, y = self.__data_generation(image_paths_temp, labels_temp)\n",
    "\n",
    "        return X, y\n",
    "\n",
    "    def on_epoch_end(self):\n",
    "        self.indexes = np.arange(len(self.image_paths))\n",
    "        if self.shuffle:\n",
    "            np.random.shuffle(self.indexes)\n",
    "\n",
    "    def __data_generation(self, image_paths_temp, labels_temp):\n",
    "        X = np.empty((self.batch_size, *self.img_size, 3))\n",
    "        y = np.empty((self.batch_size, self.n_classes), dtype=int)\n",
    "\n",
    "        for i, (img_path, label) in enumerate(zip(image_paths_temp, labels_temp)):\n",
    "            try:\n",
    "                img = tf.keras.preprocessing.image.load_img(img_path, target_size=self.img_size)\n",
    "                img = tf.keras.preprocessing.image.img_to_array(img)\n",
    "                img = img / 255.0  # Normalize the image to [0, 1]\n",
    "            except (UnidentifiedImageError, IOError) as e:\n",
    "                print(f\"Error loading image {img_path}: {e}\")\n",
    "                img = np.zeros((*self.img_size, 3))  # Placeholder image\n",
    "\n",
    "            X[i,] = img\n",
    "            y[i,] = label\n",
    "\n",
    "        return X, y"
   ]
  },
  {
   "cell_type": "code",
   "execution_count": null,
   "metadata": {
    "id": "eNoRR8WIfNQH"
   },
   "outputs": [],
   "source": [
    "import os\n",
    "import numpy as np\n",
    "import pandas as pd\n",
    "\n",
    "# path = '/content/drive/Shareddrives/PFA_Dataset/data/dataset-classifier.csv'\n",
    "# images_path = '/content/drive/Shareddrives/PFA_Dataset/images'\n",
    "\n",
    "path = '/content/drive/MyDrive/PFA-Dataset/datas/final_data.csv'\n",
    "images_path = '/content/drive/MyDrive/PFA-Dataset/Images'\n",
    "\n",
    "# Load the labels CSV file\n",
    "labels_df = pd.read_csv(path)\n",
    "\n",
    "# Create lists of image paths and corresponding labels\n",
    "image_paths = []\n",
    "labels = []\n",
    "not_found_users = []\n",
    "\n",
    "for _, row in labels_df.iterrows():\n",
    "    user_id = row['username']\n",
    "    user_labels = row[['O', 'C', 'E', 'A', 'N']].values\n",
    "    user_folder = f'{images_path}/{user_id}'\n",
    "\n",
    "    if os.path.exists(user_folder):\n",
    "        for image_name in os.listdir(user_folder):\n",
    "            image_paths.append(os.path.join(user_folder, image_name))\n",
    "            labels.append(user_labels)\n",
    "    else:\n",
    "        not_found_users.append(user_id)\n",
    "\n",
    "labels = np.array(labels)"
   ]
  },
  {
   "cell_type": "code",
   "execution_count": null,
   "metadata": {
    "id": "D0DCDOojEQ8Q"
   },
   "outputs": [],
   "source": [
    "print(len(not_found_users))\n",
    "print(image_paths[:10])\n",
    "print(labels[:10])"
   ]
  },
  {
   "cell_type": "code",
   "execution_count": null,
   "metadata": {
    "id": "iFwAhnpNfTuh"
   },
   "outputs": [],
   "source": [
    "from sklearn.model_selection import train_test_split\n",
    "\n",
    "# Split data into training and validation sets\n",
    "train_paths, val_paths, train_labels, val_labels = train_test_split(image_paths, labels, test_size=0.01, random_state=42)\n",
    "\n",
    "# Create DataGenerator instances\n",
    "train_generator = DataGenerator(train_paths, train_labels, batch_size=32, img_size=(224, 224), n_classes=5, shuffle=True)\n",
    "\n",
    "val_generator = DataGenerator(val_paths, val_labels, batch_size=32, img_size=(224, 224), n_classes=5, shuffle=False)"
   ]
  },
  {
   "cell_type": "markdown",
   "metadata": {
    "id": "9v-BmYVHObUa"
   },
   "source": [
    "##CNN simple"
   ]
  },
  {
   "cell_type": "code",
   "execution_count": null,
   "metadata": {
    "collapsed": true,
    "id": "2stVQTPLfV9s"
   },
   "outputs": [],
   "source": [
    "from tensorflow.keras.models import Sequential\n",
    "from tensorflow.keras.layers import Conv2D, MaxPooling2D, Flatten, Dense, Dropout\n",
    "\n",
    "def create_model(input_shape=(224, 224, 3)):\n",
    "    model = Sequential([\n",
    "        Conv2D(32, (3, 3), activation='relu', input_shape=input_shape),\n",
    "        MaxPooling2D((2, 2)),\n",
    "        Conv2D(64, (3, 3), activation='relu'),\n",
    "        MaxPooling2D((2, 2)),\n",
    "        Flatten(),\n",
    "        Dense(128, activation='relu'),\n",
    "        Dropout(0.5),\n",
    "        Dense(5, activation='sigmoid')\n",
    "    ])\n",
    "    model.compile(optimizer='adam', loss='binary_crossentropy', metrics=['accuracy'])\n",
    "    return model\n",
    "\n",
    "with strategy.scope():\n",
    "\n",
    "    model = create_model()\n",
    "\n",
    "    history = model.fit(\n",
    "        train_generator,\n",
    "        epochs=20,\n",
    "        validation_data=val_generator\n",
    "    )"
   ]
  },
  {
   "cell_type": "code",
   "execution_count": null,
   "metadata": {
    "id": "RXkmReZ2fZxM"
   },
   "outputs": [],
   "source": [
    "loss, accuracy = model.evaluate(val_generator)\n",
    "print(f'Validation Loss: {loss}')\n",
    "print(f'Validation Accuracy: {accuracy}')\n",
    "\n",
    "# model.save('/content/drive/My Drive/cnn.h5')"
   ]
  },
  {
   "cell_type": "code",
   "execution_count": null,
   "metadata": {
    "id": "npblxwyt_n3t"
   },
   "outputs": [],
   "source": [
    "model.save('/content/drive/My Drive/cnn2.h5')"
   ]
  },
  {
   "cell_type": "markdown",
   "metadata": {
    "id": "FT7pCCe8D3K_"
   },
   "source": [
    "## Confusion matrix"
   ]
  },
  {
   "cell_type": "code",
   "execution_count": null,
   "metadata": {
    "colab": {
     "base_uri": "https://localhost:8080/"
    },
    "collapsed": true,
    "id": "cnRpmQUIz3Ls",
    "outputId": "63d39ee2-4942-46d0-84cb-c5edbb5fcb0d"
   },
   "outputs": [
    {
     "output_type": "stream",
     "name": "stdout",
     "text": [
      "1/1 [==============================] - 1s 798ms/step\n",
      "1/1 [==============================] - 1s 694ms/step\n",
      "1/1 [==============================] - 1s 626ms/step\n",
      "1/1 [==============================] - 1s 1s/step\n",
      "1/1 [==============================] - 1s 690ms/step\n",
      "1/1 [==============================] - 1s 1s/step\n",
      "1/1 [==============================] - 1s 719ms/step\n",
      "1/1 [==============================] - 1s 643ms/step\n",
      "1/1 [==============================] - 1s 680ms/step\n",
      "1/1 [==============================] - 1s 766ms/step\n",
      "1/1 [==============================] - 1s 1s/step\n",
      "1/1 [==============================] - 1s 635ms/step\n",
      "1/1 [==============================] - 1s 647ms/step\n",
      "1/1 [==============================] - 1s 645ms/step\n",
      "1/1 [==============================] - 1s 653ms/step\n",
      "1/1 [==============================] - 1s 663ms/step\n",
      "1/1 [==============================] - 1s 642ms/step\n",
      "1/1 [==============================] - 1s 743ms/step\n",
      "1/1 [==============================] - 1s 835ms/step\n",
      "1/1 [==============================] - 1s 619ms/step\n",
      "1/1 [==============================] - 1s 641ms/step\n",
      "1/1 [==============================] - 1s 825ms/step\n",
      "1/1 [==============================] - 1s 660ms/step\n",
      "1/1 [==============================] - 1s 676ms/step\n",
      "1/1 [==============================] - 1s 774ms/step\n",
      "1/1 [==============================] - 1s 1s/step\n",
      "1/1 [==============================] - 1s 1s/step\n",
      "1/1 [==============================] - 1s 1s/step\n",
      "1/1 [==============================] - 1s 719ms/step\n",
      "1/1 [==============================] - 1s 1s/step\n",
      "1/1 [==============================] - 1s 695ms/step\n",
      "1/1 [==============================] - 1s 670ms/step\n",
      "1/1 [==============================] - 1s 751ms/step\n",
      "1/1 [==============================] - 1s 1s/step\n",
      "1/1 [==============================] - 2s 2s/step\n",
      "1/1 [==============================] - 1s 749ms/step\n",
      "1/1 [==============================] - 1s 681ms/step\n",
      "1/1 [==============================] - 1s 755ms/step\n",
      "1/1 [==============================] - 1s 700ms/step\n",
      "1/1 [==============================] - 1s 1s/step\n",
      "1/1 [==============================] - 1s 726ms/step\n",
      "1/1 [==============================] - 1s 1s/step\n",
      "1/1 [==============================] - 1s 729ms/step\n",
      "1/1 [==============================] - 1s 1s/step\n",
      "1/1 [==============================] - 1s 680ms/step\n",
      "1/1 [==============================] - 1s 948ms/step\n",
      "1/1 [==============================] - 1s 697ms/step\n",
      "1/1 [==============================] - 1s 661ms/step\n",
      "1/1 [==============================] - 1s 684ms/step\n",
      "1/1 [==============================] - 1s 778ms/step\n",
      "1/1 [==============================] - 1s 1s/step\n",
      "1/1 [==============================] - 1s 720ms/step\n",
      "1/1 [==============================] - 1s 647ms/step\n",
      "1/1 [==============================] - 1s 641ms/step\n",
      "1/1 [==============================] - 1s 752ms/step\n",
      "1/1 [==============================] - 1s 637ms/step\n",
      "1/1 [==============================] - 1s 627ms/step\n",
      "1/1 [==============================] - 1s 758ms/step\n",
      "1/1 [==============================] - 1s 718ms/step\n",
      "1/1 [==============================] - 1s 664ms/step\n",
      "1/1 [==============================] - 1s 1s/step\n",
      "1/1 [==============================] - 1s 748ms/step\n",
      "1/1 [==============================] - 1s 1s/step\n",
      "1/1 [==============================] - 1s 731ms/step\n",
      "1/1 [==============================] - 1s 1s/step\n",
      "1/1 [==============================] - 1s 653ms/step\n",
      "1/1 [==============================] - 1s 1s/step\n",
      "1/1 [==============================] - 1s 680ms/step\n",
      "1/1 [==============================] - 1s 812ms/step\n",
      "1/1 [==============================] - 1s 626ms/step\n",
      "1/1 [==============================] - 1s 670ms/step\n",
      "1/1 [==============================] - 1s 759ms/step\n",
      "1/1 [==============================] - 1s 724ms/step\n",
      "1/1 [==============================] - 1s 937ms/step\n",
      "Confusion Matrices\n",
      "Class O:\n",
      "[[  32  454]\n",
      " [ 120 1762]]\n",
      "Class C:\n",
      "[[595 917]\n",
      " [312 544]]\n",
      "Class E:\n",
      "[[1051  202]\n",
      " [ 878  237]]\n",
      "Class A:\n",
      "[[  14  382]\n",
      " [ 127 1845]]\n",
      "Class N:\n",
      "[[1868   12]\n",
      " [ 486    2]]\n",
      "Hamming Loss: 0.3285472972972973\n"
     ]
    }
   ],
   "source": [
    "import numpy as np\n",
    "from tensorflow.keras.models import load_model\n",
    "from sklearn.metrics import confusion_matrix, hamming_loss\n",
    "\n",
    "# Load the trained model\n",
    "model = load_model('/content/drive/MyDrive/PFA-Dataset/models/cnn.h5')\n",
    "\n",
    "# Initialize lists to hold true labels and predictions\n",
    "y_true = []\n",
    "y_pred = []\n",
    "\n",
    "# Collect true labels and predictions\n",
    "for i in range(len(train_generator)):\n",
    "    X, y = train_generator[i]\n",
    "    predictions = model.predict(X)\n",
    "    y_true.extend(y)\n",
    "    y_pred.extend(predictions)\n",
    "\n",
    "# Convert lists to numpy arrays\n",
    "y_true = np.array(y_true)\n",
    "y_pred = np.array(y_pred)\n",
    "\n",
    "# Binarize the predictions\n",
    "y_pred_binary = (y_pred > 0.5).astype(int)\n",
    "\n",
    "\n",
    "\n",
    "# Compute the confusion matrix for each class and print them\n",
    "confusion_matrices = [confusion_matrix(y_true[:, i], y_pred_binary[:, i]) for i in range(y_true.shape[1])]\n",
    "print('Confusion Matrices')\n",
    "for i, cm in enumerate(confusion_matrices):\n",
    "    print(f'Class {[\"O\", \"C\", \"E\", \"A\", \"N\"][i]}:')\n",
    "    print(cm)\n",
    "\n",
    "# Calculate Hamming Loss\n",
    "hamming = hamming_loss(y_true, y_pred_binary)\n",
    "print('Hamming Loss:', hamming)\n"
   ]
  },
  {
   "cell_type": "code",
   "outputs": [
    {
     "output_type": "stream",
     "name": "stdout",
     "text": [
      "Classification Report\n",
      "              precision    recall  f1-score   support\n",
      "\n",
      "           O       0.80      0.94      0.86      1882\n",
      "           C       0.37      0.64      0.47       856\n",
      "           E       0.54      0.21      0.31      1115\n",
      "           A       0.83      0.94      0.88      1972\n",
      "           N       0.14      0.00      0.01       488\n",
      "\n",
      "   micro avg       0.69      0.70      0.69      6313\n",
      "   macro avg       0.54      0.54      0.50      6313\n",
      "weighted avg       0.65      0.70      0.65      6313\n",
      " samples avg       0.70      0.68      0.67      6313\n"
     ]
    },
    {
     "output_type": "stream",
     "name": "stderr",
     "text": [
      "/usr/local/lib/python3.10/dist-packages/sklearn/metrics/_classification.py:1344: UndefinedMetricWarning: Precision and F-score are ill-defined and being set to 0.0 in samples with no predicted labels. Use `zero_division` parameter to control this behavior.\n",
      "  _warn_prf(average, modifier, msg_start, len(result))\n"
     ]
    }
   ],
   "source": [
    "report = classification_report(y_true, y_pred_binary, target_names=['O', 'C', 'E', 'A', 'N'])\n",
    "print('Classification Report')\n",
    "print(report)"
   ],
   "metadata": {
    "collapsed": false
   },
   "execution_count": 0
  },
  {
   "cell_type": "code",
   "outputs": [
    {
     "output_type": "stream",
     "name": "stdout",
     "text": [
      "1/1 [==============================] - 1s 716ms/step\n",
      "1/1 [==============================] - 1s 690ms/step\n",
      "1/1 [==============================] - 1s 659ms/step\n",
      "1/1 [==============================] - 1s 657ms/step\n",
      "1/1 [==============================] - 1s 831ms/step\n",
      "1/1 [==============================] - 1s 1s/step\n",
      "1/1 [==============================] - 1s 970ms/step\n",
      "1/1 [==============================] - 1s 647ms/step\n",
      "1/1 [==============================] - 1s 681ms/step\n",
      "1/1 [==============================] - 1s 651ms/step\n",
      "1/1 [==============================] - 1s 740ms/step\n",
      "1/1 [==============================] - 1s 650ms/step\n",
      "1/1 [==============================] - 1s 1s/step\n",
      "1/1 [==============================] - 1s 1s/step\n",
      "1/1 [==============================] - 1s 716ms/step\n",
      "1/1 [==============================] - 1s 644ms/step\n",
      "1/1 [==============================] - 1s 633ms/step\n",
      "1/1 [==============================] - 1s 642ms/step\n",
      "1/1 [==============================] - 1s 645ms/step\n",
      "1/1 [==============================] - 1s 1s/step\n",
      "1/1 [==============================] - 1s 1s/step\n",
      "1/1 [==============================] - 1s 771ms/step\n",
      "1/1 [==============================] - 1s 708ms/step\n",
      "1/1 [==============================] - 1s 720ms/step\n",
      "1/1 [==============================] - 1s 641ms/step\n",
      "1/1 [==============================] - 1s 635ms/step\n",
      "1/1 [==============================] - 1s 654ms/step\n",
      "1/1 [==============================] - 1s 1s/step\n",
      "1/1 [==============================] - 1s 1s/step\n",
      "1/1 [==============================] - 1s 637ms/step\n",
      "1/1 [==============================] - 1s 684ms/step\n",
      "1/1 [==============================] - 1s 1s/step\n",
      "1/1 [==============================] - 1s 990ms/step\n",
      "1/1 [==============================] - 1s 682ms/step\n",
      "1/1 [==============================] - 1s 1s/step\n",
      "1/1 [==============================] - 1s 1s/step\n",
      "1/1 [==============================] - 1s 621ms/step\n",
      "1/1 [==============================] - 1s 728ms/step\n",
      "1/1 [==============================] - 1s 658ms/step\n",
      "1/1 [==============================] - 1s 652ms/step\n",
      "1/1 [==============================] - 1s 618ms/step\n",
      "1/1 [==============================] - 1s 941ms/step\n",
      "1/1 [==============================] - 1s 1s/step\n",
      "1/1 [==============================] - 1s 796ms/step\n",
      "1/1 [==============================] - 1s 621ms/step\n",
      "1/1 [==============================] - 1s 634ms/step\n",
      "1/1 [==============================] - 1s 615ms/step\n",
      "1/1 [==============================] - 1s 720ms/step\n",
      "1/1 [==============================] - 1s 642ms/step\n",
      "1/1 [==============================] - 1s 1s/step\n",
      "1/1 [==============================] - 1s 1s/step\n",
      "1/1 [==============================] - 1s 721ms/step\n",
      "1/1 [==============================] - 1s 722ms/step\n",
      "1/1 [==============================] - 1s 640ms/step\n",
      "1/1 [==============================] - 1s 620ms/step\n",
      "1/1 [==============================] - 1s 631ms/step\n",
      "1/1 [==============================] - 1s 710ms/step\n",
      "1/1 [==============================] - 1s 1s/step\n",
      "1/1 [==============================] - 1s 1s/step\n",
      "1/1 [==============================] - 1s 601ms/step\n",
      "1/1 [==============================] - 1s 616ms/step\n",
      "1/1 [==============================] - 1s 629ms/step\n",
      "1/1 [==============================] - 1s 659ms/step\n",
      "1/1 [==============================] - 1s 623ms/step\n",
      "1/1 [==============================] - 1s 657ms/step\n",
      "1/1 [==============================] - 1s 1s/step\n",
      "1/1 [==============================] - 1s 1s/step\n",
      "1/1 [==============================] - 1s 628ms/step\n",
      "1/1 [==============================] - 1s 599ms/step\n",
      "1/1 [==============================] - 1s 651ms/step\n",
      "1/1 [==============================] - 1s 645ms/step\n",
      "1/1 [==============================] - 1s 625ms/step\n",
      "1/1 [==============================] - 1s 724ms/step\n",
      "1/1 [==============================] - 1s 1s/step\n",
      "Confusion Matrices\n",
      "Class O:\n",
      "[[227 259]\n",
      " [892 990]]\n",
      "Class C:\n",
      "[[ 230 1282]\n",
      " [ 124  732]]\n",
      "Class E:\n",
      "[[711 542]\n",
      " [594 521]]\n",
      "Class A:\n",
      "[[ 283  113]\n",
      " [1199  773]]\n",
      "Class N:\n",
      "[[1757  123]\n",
      " [ 464   24]]\n",
      "Hamming Loss: 0.4722972972972973\n",
      "Classification Report\n",
      "              precision    recall  f1-score   support\n",
      "\n",
      "           O       0.79      0.53      0.63      1882\n",
      "           C       0.36      0.86      0.51       856\n",
      "           E       0.49      0.47      0.48      1115\n",
      "           A       0.87      0.39      0.54      1972\n",
      "           N       0.16      0.05      0.08       488\n",
      "\n",
      "   micro avg       0.57      0.48      0.52      6313\n",
      "   macro avg       0.54      0.46      0.45      6313\n",
      "weighted avg       0.66      0.48      0.52      6313\n",
      " samples avg       0.53      0.46      0.47      6313\n"
     ]
    },
    {
     "output_type": "stream",
     "name": "stderr",
     "text": [
      "/usr/local/lib/python3.10/dist-packages/sklearn/metrics/_classification.py:1344: UndefinedMetricWarning: Precision and F-score are ill-defined and being set to 0.0 in samples with no predicted labels. Use `zero_division` parameter to control this behavior.\n",
      "  _warn_prf(average, modifier, msg_start, len(result))\n"
     ]
    }
   ],
   "source": [
    "import numpy as np\n",
    "from tensorflow.keras.models import load_model\n",
    "from sklearn.metrics import confusion_matrix, hamming_loss\n",
    "\n",
    "# Define a function to apply thresholds\n",
    "def apply_thresholds(y_pred, thresholds):\n",
    "    y_pred_binary = np.zeros_like(y_pred)\n",
    "    for i in range(y_pred.shape[1]):\n",
    "        y_pred_binary[:, i] = (y_pred[:, i] > thresholds[i]).astype(int)\n",
    "    return y_pred_binary\n",
    "\n",
    "# Thresholds for each class\n",
    "thresholds = [0.7, 0.4, 0.4, 0.7, 0.3]\n",
    "# Load the trained model\n",
    "model = load_model('/content/drive/MyDrive/PFA-Dataset/models/cnn.h5')\n",
    "\n",
    "# Initialize lists to hold true labels and predictions\n",
    "y_true = []\n",
    "y_pred = []\n",
    "\n",
    "# Collect true labels and predictions\n",
    "for i in range(len(train_generator)):\n",
    "    X, y = train_generator[i]\n",
    "    predictions = model.predict(X)\n",
    "    y_true.extend(y)\n",
    "    y_pred.extend(predictions)\n",
    "\n",
    "# Convert lists to numpy arrays\n",
    "y_true = np.array(y_true)\n",
    "y_pred = np.array(y_pred)\n",
    "\n",
    "# Binarize the predictions\n",
    "y_pred_binary = apply_thresholds(y_pred, thresholds)\n",
    "\n",
    "# Compute the confusion matrix for each class and print them\n",
    "confusion_matrices = [confusion_matrix(y_true[:, i], y_pred_binary[:, i]) for i in range(y_true.shape[1])]\n",
    "print('Confusion Matrices')\n",
    "for i, cm in enumerate(confusion_matrices):\n",
    "    print(f'Class {[\"O\", \"C\", \"E\", \"A\", \"N\"][i]}:')\n",
    "    print(cm)\n",
    "\n",
    "# Calculate Hamming Loss\n",
    "hamming = hamming_loss(y_true, y_pred_binary)\n",
    "print('Hamming Loss:', hamming)\n",
    "\n",
    "report = classification_report(y_true, y_pred_binary, target_names=['O', 'C', 'E', 'A', 'N'])\n",
    "print('Classification Report')\n",
    "print(report)\n"
   ],
   "metadata": {
    "collapsed": false
   },
   "execution_count": 0
  },
  {
   "cell_type": "markdown",
   "source": [
    "[0.7, 0.4, 0.4, 0.7, 0.3]"
   ],
   "metadata": {
    "id": "IU3vt4yNzsGj"
   }
  },
  {
   "cell_type": "code",
   "source": [
    "import numpy as np\n",
    "from tensorflow.keras.models import load_model\n",
    "from sklearn.metrics import confusion_matrix, hamming_loss\n",
    "\n",
    "# Define a function to apply thresholds\n",
    "def apply_thresholds(y_pred, thresholds):\n",
    "    y_pred_binary = np.zeros_like(y_pred)\n",
    "    for i in range(y_pred.shape[1]):\n",
    "        y_pred_binary[:, i] = (y_pred[:, i] > thresholds[i]).astype(int)\n",
    "    return y_pred_binary\n",
    "\n",
    "# Thresholds for each class\n",
    "thresholds = [0.7, 0.6, 0.6, 0.7, 0.2]\n",
    "# Load the trained model\n",
    "model = load_model('/content/drive/MyDrive/PFA-Dataset/models/cnn.h5')\n",
    "\n",
    "# Initialize lists to hold true labels and predictions\n",
    "y_true = []\n",
    "y_pred = []\n",
    "\n",
    "# Collect true labels and predictions\n",
    "for i in range(len(train_generator)):\n",
    "    X, y = train_generator[i]\n",
    "    predictions = model.predict(X)\n",
    "    y_true.extend(y)\n",
    "    y_pred.extend(predictions)\n",
    "\n",
    "# Convert lists to numpy arrays\n",
    "y_true = np.array(y_true)\n",
    "y_pred = np.array(y_pred)\n",
    "\n",
    "# Binarize the predictions\n",
    "y_pred_binary = apply_thresholds(y_pred, thresholds)\n",
    "\n",
    "# Compute the confusion matrix for each class and print them\n",
    "confusion_matrices = [confusion_matrix(y_true[:, i], y_pred_binary[:, i]) for i in range(y_true.shape[1])]\n",
    "print('Confusion Matrices')\n",
    "for i, cm in enumerate(confusion_matrices):\n",
    "    print(f'Class {[\"O\", \"C\", \"E\", \"A\", \"N\"][i]}:')\n",
    "    print(cm)\n",
    "\n",
    "# Calculate Hamming Loss\n",
    "hamming = hamming_loss(y_true, y_pred_binary)\n",
    "print('Hamming Loss:', hamming)\n",
    "\n",
    "report = classification_report(y_true, y_pred_binary, target_names=['O', 'C', 'E', 'A', 'N'])\n",
    "print('Classification Report')\n",
    "print(report)\n"
   ],
   "metadata": {
    "colab": {
     "base_uri": "https://localhost:8080/"
    },
    "id": "6jJCPqYcyCRE",
    "outputId": "a78e6274-38ee-45ba-b1a2-88eb5b7175c0"
   },
   "execution_count": null,
   "outputs": [
    {
     "output_type": "stream",
     "name": "stdout",
     "text": [
      "1/1 [==============================] - 1s 741ms/step\n",
      "1/1 [==============================] - 1s 637ms/step\n",
      "1/1 [==============================] - 1s 1s/step\n",
      "1/1 [==============================] - 1s 1s/step\n",
      "1/1 [==============================] - 1s 617ms/step\n",
      "1/1 [==============================] - 1s 638ms/step\n",
      "1/1 [==============================] - 1s 645ms/step\n",
      "1/1 [==============================] - 1s 696ms/step\n",
      "1/1 [==============================] - 1s 696ms/step\n",
      "1/1 [==============================] - 1s 843ms/step\n",
      "1/1 [==============================] - 1s 1s/step\n",
      "1/1 [==============================] - 1s 900ms/step\n",
      "1/1 [==============================] - 1s 636ms/step\n",
      "1/1 [==============================] - 1s 627ms/step\n",
      "1/1 [==============================] - 1s 713ms/step\n",
      "1/1 [==============================] - 1s 668ms/step\n",
      "1/1 [==============================] - 1s 663ms/step\n",
      "1/1 [==============================] - 1s 1s/step\n",
      "1/1 [==============================] - 1s 1s/step\n",
      "1/1 [==============================] - 1s 627ms/step\n",
      "1/1 [==============================] - 1s 618ms/step\n",
      "1/1 [==============================] - 1s 689ms/step\n",
      "1/1 [==============================] - 1s 661ms/step\n",
      "1/1 [==============================] - 1s 631ms/step\n",
      "1/1 [==============================] - 1s 1s/step\n",
      "1/1 [==============================] - 1s 1s/step\n",
      "1/1 [==============================] - 1s 1s/step\n",
      "1/1 [==============================] - 1s 614ms/step\n",
      "1/1 [==============================] - 1s 618ms/step\n",
      "1/1 [==============================] - 1s 652ms/step\n",
      "1/1 [==============================] - 1s 652ms/step\n",
      "1/1 [==============================] - 1s 596ms/step\n",
      "1/1 [==============================] - 1s 606ms/step\n",
      "1/1 [==============================] - 1s 1s/step\n",
      "1/1 [==============================] - 1s 859ms/step\n",
      "1/1 [==============================] - 1s 621ms/step\n",
      "1/1 [==============================] - 1s 785ms/step\n",
      "1/1 [==============================] - 1s 658ms/step\n",
      "1/1 [==============================] - 1s 647ms/step\n",
      "1/1 [==============================] - 1s 625ms/step\n",
      "1/1 [==============================] - 1s 1s/step\n",
      "1/1 [==============================] - 1s 1s/step\n",
      "1/1 [==============================] - 1s 612ms/step\n",
      "1/1 [==============================] - 1s 597ms/step\n",
      "1/1 [==============================] - 1s 638ms/step\n",
      "1/1 [==============================] - 1s 686ms/step\n",
      "1/1 [==============================] - 1s 661ms/step\n",
      "1/1 [==============================] - 1s 610ms/step\n",
      "1/1 [==============================] - 1s 1s/step\n",
      "1/1 [==============================] - 1s 1s/step\n",
      "1/1 [==============================] - 1s 615ms/step\n",
      "1/1 [==============================] - 1s 620ms/step\n",
      "1/1 [==============================] - 1s 639ms/step\n",
      "1/1 [==============================] - 1s 612ms/step\n",
      "1/1 [==============================] - 1s 629ms/step\n",
      "1/1 [==============================] - 1s 629ms/step\n",
      "1/1 [==============================] - 1s 1s/step\n",
      "1/1 [==============================] - 1s 1s/step\n",
      "1/1 [==============================] - 1s 616ms/step\n",
      "1/1 [==============================] - 1s 633ms/step\n",
      "1/1 [==============================] - 1s 612ms/step\n",
      "1/1 [==============================] - 1s 615ms/step\n",
      "1/1 [==============================] - 1s 606ms/step\n",
      "1/1 [==============================] - 1s 845ms/step\n",
      "1/1 [==============================] - 1s 1s/step\n",
      "1/1 [==============================] - 1s 841ms/step\n",
      "1/1 [==============================] - 1s 627ms/step\n",
      "1/1 [==============================] - 1s 624ms/step\n",
      "1/1 [==============================] - 1s 636ms/step\n",
      "1/1 [==============================] - 1s 615ms/step\n",
      "1/1 [==============================] - 1s 619ms/step\n",
      "1/1 [==============================] - 1s 939ms/step\n",
      "1/1 [==============================] - 1s 1s/step\n",
      "1/1 [==============================] - 1s 788ms/step\n",
      "Confusion Matrices\n",
      "Class O:\n",
      "[[227 259]\n",
      " [892 990]]\n",
      "Class C:\n",
      "[[1175  337]\n",
      " [ 619  237]]\n",
      "Class E:\n",
      "[[1161   92]\n",
      " [1001  114]]\n",
      "Class A:\n",
      "[[ 283  113]\n",
      " [1199  773]]\n",
      "Class N:\n",
      "[[1468  412]\n",
      " [ 379  109]]\n",
      "Hamming Loss: 0.4478885135135135\n",
      "Classification Report\n",
      "              precision    recall  f1-score   support\n",
      "\n",
      "           O       0.79      0.53      0.63      1882\n",
      "           C       0.41      0.28      0.33       856\n",
      "           E       0.55      0.10      0.17      1115\n",
      "           A       0.87      0.39      0.54      1972\n",
      "           N       0.21      0.22      0.22       488\n",
      "\n",
      "   micro avg       0.65      0.35      0.46      6313\n",
      "   macro avg       0.57      0.30      0.38      6313\n",
      "weighted avg       0.68      0.35      0.45      6313\n",
      " samples avg       0.56      0.35      0.41      6313\n"
     ]
    },
    {
     "output_type": "stream",
     "name": "stderr",
     "text": [
      "/usr/local/lib/python3.10/dist-packages/sklearn/metrics/_classification.py:1344: UndefinedMetricWarning: Precision and F-score are ill-defined and being set to 0.0 in samples with no predicted labels. Use `zero_division` parameter to control this behavior.\n",
      "  _warn_prf(average, modifier, msg_start, len(result))\n"
     ]
    }
   ]
  },
  {
   "cell_type": "markdown",
   "source": [
    "thresholds = [0.7, 0.6, 0.6, 0.7, 0.2]"
   ],
   "metadata": {
    "id": "By5Mk9yJz7LT"
   }
  }
 ],
 "metadata": {
  "accelerator": "GPU",
  "colab": {
   "collapsed_sections": [
    "t665-_4NQHZI",
    "9v-BmYVHObUa",
    "rlHaeJIoQUaC",
    "o1sVUFssOkMB",
    "GP5Wsmh-DzOp"
   ],
   "gpuType": "T4",
   "provenance": []
  },
  "kernelspec": {
   "display_name": "Python 3",
   "name": "python3"
  },
  "language_info": {
   "name": "python"
  }
 },
 "nbformat": 4,
 "nbformat_minor": 0
}
