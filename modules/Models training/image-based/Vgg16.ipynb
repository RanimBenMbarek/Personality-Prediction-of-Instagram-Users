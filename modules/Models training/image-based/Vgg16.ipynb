{
 "cells": [
  {
   "cell_type": "code",
   "execution_count": 0,
   "metadata": {
    "colab": {
     "base_uri": "https://localhost:8080/"
    },
    "id": "UcrsHlbhZiWr",
    "outputId": "f965dde8-55b7-4f45-8437-bb7919a34312"
   },
   "outputs": [
    {
     "name": "stdout",
     "output_type": "stream",
     "text": [
      "Mounted at /content/drive\n"
     ]
    }
   ],
   "source": [
    "from google.colab import drive\n",
    "drive.mount('/content/drive')"
   ]
  },
  {
   "cell_type": "code",
   "execution_count": 0,
   "metadata": {
    "id": "EClm9cse0War"
   },
   "outputs": [],
   "source": [
    "import pandas as pd"
   ]
  },
  {
   "cell_type": "markdown",
   "metadata": {
    "id": "lj7ojRWRQGCz"
   },
   "source": [
    "## Preporocess images"
   ]
  },
  {
   "cell_type": "code",
   "execution_count": 0,
   "metadata": {
    "id": "CSd037WUfFY5"
   },
   "outputs": [],
   "source": [
    "import numpy as np\n",
    "import tensorflow as tf\n",
    "from tensorflow.keras.utils import Sequence\n",
    "from PIL import UnidentifiedImageError\n",
    "\n",
    "class DataGenerator(Sequence):\n",
    "    def __init__(self, image_paths, labels, batch_size=32, img_size=(150, 150), n_classes=5, shuffle=True):\n",
    "        self.image_paths = image_paths\n",
    "        self.labels = labels\n",
    "        self.batch_size = batch_size\n",
    "        self.img_size = img_size\n",
    "        self.n_classes = n_classes\n",
    "        self.shuffle = shuffle\n",
    "        self.on_epoch_end()\n",
    "\n",
    "    def __len__(self):\n",
    "        return int(np.floor(len(self.image_paths) / self.batch_size))\n",
    "\n",
    "    def __getitem__(self, index):\n",
    "        indexes = self.indexes[index * self.batch_size:(index + 1) * self.batch_size]\n",
    "        image_paths_temp = [self.image_paths[k] for k in indexes]\n",
    "        labels_temp = [self.labels[k] for k in indexes]\n",
    "\n",
    "        X, y = self.__data_generation(image_paths_temp, labels_temp)\n",
    "\n",
    "        return X, y\n",
    "\n",
    "    def on_epoch_end(self):\n",
    "        self.indexes = np.arange(len(self.image_paths))\n",
    "        if self.shuffle:\n",
    "            np.random.shuffle(self.indexes)\n",
    "\n",
    "    def __data_generation(self, image_paths_temp, labels_temp):\n",
    "        X = np.empty((self.batch_size, *self.img_size, 3))\n",
    "        y = np.empty((self.batch_size, self.n_classes), dtype=int)\n",
    "\n",
    "        for i, (img_path, label) in enumerate(zip(image_paths_temp, labels_temp)):\n",
    "            try:\n",
    "                img = tf.keras.preprocessing.image.load_img(img_path, target_size=self.img_size)\n",
    "                img = tf.keras.preprocessing.image.img_to_array(img)\n",
    "                img = img / 255.0  # Normalize the image to [0, 1]\n",
    "            except (UnidentifiedImageError, IOError) as e:\n",
    "                print(f\"Error loading image {img_path}: {e}\")\n",
    "                img = np.zeros((*self.img_size, 3))  # Placeholder image\n",
    "\n",
    "            X[i,] = img\n",
    "            y[i,] = label\n",
    "\n",
    "        return X, y"
   ]
  },
  {
   "cell_type": "code",
   "execution_count": 0,
   "metadata": {
    "id": "eNoRR8WIfNQH"
   },
   "outputs": [],
   "source": [
    "import os\n",
    "import numpy as np\n",
    "import pandas as pd\n",
    "\n",
    "path = '/content/drive/MyDrive/PFA-Dataset/datas/final_data.csv'\n",
    "images_path = '/content/drive/MyDrive/PFA-Dataset/Images'\n",
    "\n",
    "# Load the labels CSV file\n",
    "labels_df = pd.read_csv(path)\n",
    "\n",
    "# Create lists of image paths and corresponding labels\n",
    "image_paths = []\n",
    "labels = []\n",
    "not_found_users = []\n",
    "\n",
    "for _, row in labels_df.iterrows():\n",
    "    user_id = row['username']\n",
    "    user_labels = row[['O', 'C', 'E', 'A', 'N']].values\n",
    "    user_folder = f'{images_path}/{user_id}'\n",
    "\n",
    "    if os.path.exists(user_folder):\n",
    "        for image_name in os.listdir(user_folder):\n",
    "            image_paths.append(os.path.join(user_folder, image_name))\n",
    "            labels.append(user_labels)\n",
    "    else:\n",
    "        not_found_users.append(user_id)\n",
    "\n",
    "labels = np.array(labels)"
   ]
  },
  {
   "cell_type": "code",
   "execution_count": 0,
   "metadata": {
    "id": "D0DCDOojEQ8Q"
   },
   "outputs": [],
   "source": [
    "print(len(not_found_users))\n",
    "print(image_paths[:10])\n",
    "print(labels[:10])"
   ]
  },
  {
   "cell_type": "code",
   "execution_count": 0,
   "metadata": {
    "id": "KQ_yvdcOUYrM"
   },
   "outputs": [],
   "source": [
    "from sklearn.model_selection import train_test_split\n",
    "\n",
    "train_paths, val_paths, train_labels, val_labels = train_test_split(image_paths, labels, test_size=0.01, random_state=42)\n",
    "\n",
    "# Further split the training set into two halves\n",
    "val_paths_half1,val_paths_half2, val_labels_half1, val_labels_half2 = train_test_split(val_paths, val_labels, test_size=0.5, random_state=42)\n",
    "# # Create DataGenerator instance for the validation set\n",
    "val_generator = DataGenerator(val_paths_half1, val_labels_half1, batch_size=32, img_size=(224, 224), n_classes=5, shuffle=False)"
   ]
  },
  {
   "cell_type": "markdown",
   "metadata": {
    "id": "JSSRkFUtDrw3"
   },
   "source": [
    "## VGG16 Model"
   ]
  },
  {
   "cell_type": "code",
   "execution_count": 0,
   "metadata": {
    "colab": {
     "base_uri": "https://localhost:8080/"
    },
    "id": "qWMYV2DgvXCa",
    "outputId": "4b615983-99d5-4930-9c46-4c697dc619a7"
   },
   "outputs": [
    {
     "name": "stdout",
     "output_type": "stream",
     "text": [
      "319/319 [==============================] - 24361s 76s/step - loss: 0.6169 - accuracy: 0.3904 - val_loss: 0.6029 - val_accuracy: 0.5867\n"
     ]
    }
   ],
   "source": [
    "from tensorflow.keras.applications import VGG16\n",
    "from tensorflow.keras.preprocessing.image import ImageDataGenerator\n",
    "from tensorflow.keras.layers import Conv2D, MaxPooling2D, Flatten, Dense, Dropout, GlobalAveragePooling2D\n",
    "from tensorflow.keras.models import Sequential\n",
    "from tensorflow.keras.optimizers import Adam\n",
    "\n",
    "# Load the pre-trained VGG16 model without the top classification layers\n",
    "base_model = VGG16(weights='imagenet', include_top=False, input_shape=(224, 224, 3))\n",
    "\n",
    "# Add custom classification layers on top of the pre-trained base model\n",
    "model = Sequential([\n",
    "    base_model,\n",
    "    GlobalAveragePooling2D(),\n",
    "    Dense(512, activation='relu'),\n",
    "    Dropout(0.5),\n",
    "    Dense(5, activation='sigmoid')\n",
    "])\n",
    "\n",
    "# Compile the model\n",
    "model.compile(loss='binary_crossentropy', optimizer=Adam(learning_rate=0.0001), metrics=['accuracy'])\n",
    "\n",
    "\n",
    "# Train the model using the data generators\n",
    "history = model.fit(\n",
    "    train_generator_half1 ,\n",
    "    epochs=1,\n",
    "    validation_data=val_generator\n",
    ")"
   ]
  },
  {
   "cell_type": "code",
   "execution_count": 0,
   "metadata": {
    "colab": {
     "base_uri": "https://localhost:8080/"
    },
    "id": "Ky2fXsliOnBB",
    "outputId": "d3a087b7-b632-42ea-90f3-5a5e21730ff6"
   },
   "outputs": [],
   "source": [
    "model.save('/content/drive/My Drive/Vgg16.h5')"
   ]
  },
  {
   "cell_type": "code",
   "execution_count": 0,
   "metadata": {
    "id": "jUwe7esm9a2k"
   },
   "outputs": [],
   "source": [
    "import numpy as np\n",
    "from tensorflow.keras.models import load_model\n",
    "from sklearn.metrics import confusion_matrix, hamming_loss\n",
    "model = load_model('/content/drive/MyDrive/PFA-Dataset/models/Vgg16.h5')\n"
   ]
  },
  {
   "cell_type": "code",
   "execution_count": 0,
   "metadata": {
    "colab": {
     "base_uri": "https://localhost:8080/",
     "height": 1000
    },
    "collapsed": true,
    "id": "qseyYih-9pD0",
    "outputId": "5b094901-0361-4385-862b-b19c25db8e43"
   },
   "outputs": [],
   "source": [
    "from tensorflow.keras.utils import plot_model\n",
    "\n",
    "# Assuming 'model' is your Keras model\n",
    "plot_model(\n",
    "    model,\n",
    "    to_file='vgg16.png',\n",
    "    show_shapes=True,\n",
    "    show_layer_names=True,\n",
    "    expand_nested=True,  # Expand nested models\n",
    "    rankdir='TB',  # Direction: 'TB' (top to bottom), 'LR' (left to right)\n",
    "    dpi=300  # Image resolution\n",
    ")\n"
   ]
  },
  {
   "cell_type": "markdown",
   "metadata": {
    "id": "FT7pCCe8D3K_"
   },
   "source": [
    "## Confusion Matrices"
   ]
  },
  {
   "cell_type": "code",
   "execution_count": 0,
   "metadata": {
    "colab": {
     "base_uri": "https://localhost:8080/",
     "height": 1000
    },
    "id": "LPgMlOTRrMMK",
    "outputId": "e387bd03-27df-4898-b6c7-c9108739645b"
   },
   "outputs": [],
   "source": [
    "import numpy as np\n",
    "from tensorflow.keras.models import load_model\n",
    "from sklearn.metrics import confusion_matrix, hamming_loss\n",
    "\n",
    "# Define a function to apply thresholds\n",
    "def apply_thresholds(y_pred, thresholds):\n",
    "    y_pred_binary = np.zeros_like(y_pred)\n",
    "    for i in range(y_pred.shape[1]):\n",
    "        y_pred_binary[:, i] = (y_pred[:, i] > thresholds[i]).astype(int)\n",
    "    return y_pred_binary\n",
    "\n",
    "# Thresholds for each class\n",
    "thresholds = [0.7, 0.6, 0.6, 0.7, 0.2]\n",
    "# Load the trained model\n",
    "model = load_model('/content/drive/MyDrive/PFA-Dataset/models/Vgg16.h5')\n",
    "\n",
    "# Initialize lists to hold true labels and predictions\n",
    "y_true = []\n",
    "y_pred = []\n",
    "\n",
    "# Collect true labels and predictions\n",
    "for i in range(len(train_generator)):\n",
    "    X, y = train_generator[i]\n",
    "    predictions = model.predict(X)\n",
    "    y_true.extend(y)\n",
    "    y_pred.extend(predictions)\n",
    "\n",
    "# Convert lists to numpy arrays\n",
    "y_true = np.array(y_true)\n",
    "y_pred = np.array(y_pred)\n",
    "\n",
    "# Binarize the predictions\n",
    "y_pred_binary = apply_thresholds(y_pred, thresholds)\n",
    "\n",
    "# Compute the confusion matrix for each class and print them\n",
    "confusion_matrices = [confusion_matrix(y_true[:, i], y_pred_binary[:, i]) for i in range(y_true.shape[1])]\n",
    "print('Confusion Matrices')\n",
    "for i, cm in enumerate(confusion_matrices):\n",
    "    print(f'Class {[\"O\", \"C\", \"E\", \"A\", \"N\"][i]}:')\n",
    "    print(cm)\n",
    "\n",
    "# Calculate Hamming Loss\n",
    "hamming = hamming_loss(y_true, y_pred_binary)\n",
    "print('Hamming Loss:', hamming)\n",
    "\n",
    "report = classification_report(y_true, y_pred_binary, target_names=['O', 'C', 'E', 'A', 'N'])\n",
    "print('Classification Report')\n",
    "print(report)\n"
   ]
  },
  {
   "cell_type": "markdown",
   "metadata": {
    "collapsed": false
   },
   "source": [
    "Confusion Matrices\n",
    "Class O:\n",
    "[[ 431   54]\n",
    " [1723  160]]\n",
    "Class C:\n",
    "[[1511    0]\n",
    " [ 857    0]]\n",
    "Class E:\n",
    "[[1252    0]\n",
    " [1116    0]]\n",
    "Class A:\n",
    "[[ 395    0]\n",
    " [1973    0]]\n",
    "Class N:\n",
    "[[1347  533]\n",
    " [ 412   76]]\n",
    "Hamming Loss: 0.5631756756756757"
   ]
  },
  {
   "cell_type": "markdown",
   "metadata": {
    "id": "QwuvJgcYfmra"
   },
   "source": [
    "## Retraining vgg16"
   ]
  },
  {
   "cell_type": "code",
   "execution_count": 0,
   "metadata": {
    "colab": {
     "background_save": true,
     "base_uri": "https://localhost:8080/"
    },
    "id": "zaiTS5rqai6O",
    "outputId": "9b0d72f0-2eb0-4081-8ef3-7f3d355493a8"
   },
   "outputs": [
    {
     "name": "stdout",
     "output_type": "stream",
     "text": [
      " 75/319 [======>.......................] - ETA: 4:49:23 - loss: 0.6071 - accuracy: 0.4450"
     ]
    }
   ],
   "source": [
    "from tensorflow.keras.models import load_model\n",
    "from tensorflow.keras.applications import VGG16\n",
    "from tensorflow.keras.preprocessing.image import ImageDataGenerator\n",
    "from tensorflow.keras.layers import Conv2D, MaxPooling2D, Flatten, Dense, Dropout, GlobalAveragePooling2D\n",
    "from tensorflow.keras.models import Sequential\n",
    "from tensorflow.keras.optimizers import Adam\n",
    "\n",
    "\n",
    "# Load the saved model\n",
    "model = load_model('/content/drive/MyDrive/Vgg16.h5')\n",
    "\n",
    "model.compile(loss='binary_crossentropy', optimizer=Adam(learning_rate=0.0001), metrics=['accuracy'])\n",
    "\n",
    "\n",
    "# Train the model using the data generators\n",
    "history = model.fit(\n",
    "    train_generator_half2 ,\n",
    "    epochs=1,\n",
    "    validation_data=val_generator\n",
    ")\n",
    "model.save('/content/drive/Shareddrives/PFA_Dataset/models/vggPretrained_model.h5')\n"
   ]
  },
  {
   "cell_type": "code",
   "execution_count": 0,
   "metadata": {
    "collapsed": false
   },
   "outputs": [],
   "source": [
    "import numpy as np\n",
    "from tensorflow.keras.models import load_model\n",
    "from sklearn.metrics import classification_report, confusion_matrix\n",
    "from sklearn.metrics import confusion_matrix, hamming_loss\n",
    "\n",
    "def apply_thresholds(y_pred, thresholds):\n",
    "    y_pred_binary = np.zeros_like(y_pred)\n",
    "    for i in range(y_pred.shape[1]):  # Assuming y_pred has shape (n_samples, n_classes)\n",
    "        y_pred_binary[:, i] = (y_pred[:, i] > thresholds[i]).astype(int)\n",
    "    return y_pred_binary\n",
    "\n",
    "model = load_model('/content/drive/Shareddrives/PFA_Dataset/models/vggPretrained_model.h5')\n",
    "y_true = []\n",
    "y_pred = []\n",
    "\n",
    "for i in range(len(val_generator)):\n",
    "    X, y = val_generator[i]\n",
    "    predictions = model.predict(X)\n",
    "\n",
    "    y_true.extend(y)\n",
    "    y_pred.extend(predictions)\n",
    "\n",
    "y_true = np.array(y_true)\n",
    "y_pred = np.array(y_pred)\n",
    "from sklearn.metrics import classification_report, confusion_matrix\n",
    "print('actual',y_true)\n",
    "print('predicted',y_pred)\n",
    "# Binarize the predictions\n",
    "y_pred_binary = (y_pred > 0.5).astype(int)\n",
    "\n",
    "# Compute the classification report\n",
    "report = classification_report(y_true, y_pred_binary, target_names=['O', 'C', 'E', 'A', 'N'])\n",
    "print('Classification Report')\n",
    "print(report)\n",
    "\n",
    "# Compute the confusion matrix for each class\n",
    "confusion_matrices = [confusion_matrix(y_true[:, i], y_pred_binary[:, i]) for i in range(y_true.shape[1])]\n",
    "\n",
    "# Print the confusion matrices\n",
    "print('Confusion Matrices')\n",
    "for i, cm in enumerate(confusion_matrices):\n",
    "    print(f'Class {[\"O\", \"C\", \"E\", \"A\", \"N\"][i]}:')\n",
    "    print(cm)"
   ]
  },
  {
   "cell_type": "markdown",
   "metadata": {
    "collapsed": false
   },
   "source": [
    "Classification Report\n",
    "              precision    recall  f1-score   support\n",
    "\n",
    "           O       0.68      1.00      0.81      3470\n",
    "           C       0.56      1.00      0.72      2867\n",
    "           E       0.00      0.00      0.00      2028\n",
    "           A       0.64      1.00      0.78      3272\n",
    "           N       0.00      0.00      0.00       721\n",
    "\n",
    "   micro avg       0.63      0.78      0.70     12358\n",
    "   macro avg       0.38      0.60      0.46     12358\n",
    "weighted avg       0.49      0.78      0.60     12358\n",
    " samples avg       0.63      0.78      0.67     12358\n",
    "\n"
   ]
  },
  {
   "cell_type": "markdown",
   "metadata": {
    "collapsed": false
   },
   "source": [
    "Confusion Matrices\n",
    "Class O:\n",
    "[[   0 1618]\n",
    " [   0 3470]]\n",
    "Class C:\n",
    "[[   0 2221]\n",
    " [   0 2867]]\n",
    "Class E:\n",
    "[[3059    1]\n",
    " [2028    0]]\n",
    "Class A:\n",
    "[[   0 1816]\n",
    " [   0 3272]]\n",
    "Class N:\n",
    "[[4367    0]\n",
    " [ 721    0]]"
   ]
  }
 ],
 "metadata": {
  "accelerator": "GPU",
  "colab": {
   "collapsed_sections": [
    "t665-_4NQHZI",
    "9v-BmYVHObUa",
    "rlHaeJIoQUaC",
    "o1sVUFssOkMB",
    "GP5Wsmh-DzOp"
   ],
   "gpuType": "T4",
   "provenance": []
  },
  "kernelspec": {
   "display_name": "Python 3",
   "name": "python3"
  },
  "language_info": {
   "name": "python"
  }
 },
 "nbformat": 4,
 "nbformat_minor": 0
}
