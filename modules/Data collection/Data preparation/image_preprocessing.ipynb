{
 "cells": [
  {
   "cell_type": "code",
   "execution_count": null,
   "metadata": {
    "colab": {
     "base_uri": "https://localhost:8080/"
    },
    "id": "UcrsHlbhZiWr",
    "outputId": "f965dde8-55b7-4f45-8437-bb7919a34312"
   },
   "outputs": [
    {
     "output_type": "stream",
     "name": "stdout",
     "text": [
      "Mounted at /content/drive\n"
     ]
    }
   ],
   "source": [
    "from google.colab import drive\n",
    "drive.mount('/content/drive')"
   ]
  },
  {
   "cell_type": "code",
   "execution_count": null,
   "metadata": {
    "id": "EClm9cse0War"
   },
   "outputs": [],
   "source": [
    "import pandas as pd"
   ]
  },
  {
   "cell_type": "markdown",
   "metadata": {
    "id": "t665-_4NQHZI"
   },
   "source": [
    "##dataset"
   ]
  },
  {
   "cell_type": "markdown",
   "metadata": {
    "id": "nhxKLcvbHSTO"
   },
   "source": [
    "##video to image"
   ]
  },
  {
   "cell_type": "code",
   "execution_count": null,
   "metadata": {
    "id": "2S2WMjD_teRo"
   },
   "outputs": [],
   "source": [
    "! pip install python-magic"
   ]
  },
  {
   "cell_type": "code",
   "execution_count": null,
   "metadata": {
    "colab": {
     "base_uri": "https://localhost:8080/",
     "height": 385
    },
    "collapsed": true,
    "id": "csLVjzp6nrtr",
    "outputId": "3db64fb1-b8c3-4618-bdf2-64cd271108de"
   },
   "outputs": [],
   "source": [
    "import magic\n",
    "from PIL import Image, UnidentifiedImageError\n",
    "import os\n",
    "import cv2\n",
    "\n",
    "def delete_file(file_path):\n",
    "    os.remove(file_path)\n",
    "    print(f\"Deleted file {file_path}\")\n",
    "\n",
    "def extract_first_frame(video_path, output_path):\n",
    "    cap = cv2.VideoCapture(video_path)\n",
    "    ret, frame = cap.read()\n",
    "    if ret:\n",
    "        cv2.imwrite(output_path, frame)\n",
    "        print(f\"Extracted first frame from {video_path} to {output_path}\")\n",
    "    else:\n",
    "        print(f\"Failed to extract frame from {video_path}\")\n",
    "    cap.release()\n",
    "\n",
    "def process_folder(folder_path):\n",
    "    # Iterate through each file in the folder\n",
    "    for filename in os.listdir(folder_path):\n",
    "        file_path = os.path.join(folder_path, filename)\n",
    "\n",
    "        # Check if the path is a file\n",
    "        if os.path.isfile(file_path):\n",
    "            mime = magic.Magic(mime=True)\n",
    "            file_type = mime.from_file(file_path)\n",
    "\n",
    "            if file_type is None:\n",
    "                print(f\"File {file_path} is not a recognized file.\")\n",
    "                os.remove(file_path)\n",
    "            else:\n",
    "                if file_type == 'text/plain':\n",
    "                    delete_file(file_path)\n",
    "                elif file_type.startswith('video'):\n",
    "                    output_image_path = os.path.splitext(file_path)[0] + \"_f.jpg\"\n",
    "                    extract_first_frame(file_path, output_image_path)\n",
    "                    os.remove(file_path)\n",
    "                # elif file_type.startswith('image'):\n",
    "                else:\n",
    "                    try:\n",
    "                        image = Image.open(file_path)\n",
    "                        image.verify()  # Verify if it's a valid image\n",
    "                        print(f\"Verified image file {file_path}\")\n",
    "                    except UnidentifiedImageError:\n",
    "                        print(f\"Cannot identify image file {file_path}\")\n",
    "                        delete_file(file_path)\n",
    "                    except Exception as e:\n",
    "                        print(f\"An error occurred while processing image {file_path}: {e}\")\n",
    "                        delete_file(file_path)\n",
    "\n",
    "        else:\n",
    "            print(f'{file_path} is not a file, skipping...')\n",
    "\n",
    "\n",
    "\n",
    "def process_users_in_chunks(folder_path, chunk_size=10):\n",
    "    # List all users in the folder\n",
    "    users = os.listdir(folder_path)\n",
    "\n",
    "    # Iterate over users in chunks of `chunk_size`\n",
    "    for i in range(0, len(users), chunk_size):\n",
    "        chunk = users[i:i + chunk_size]\n",
    "        print(f\"Processing chunk: {chunk}\")\n",
    "\n",
    "        for user in chunk:\n",
    "            user_folder_path = os.path.join(folder_path, user)\n",
    "            if os.path.isdir(user_folder_path):\n",
    "                process_folder(user_folder_path)\n",
    "\n",
    "# Define the path to the folder containing users\n",
    "folder_path = '/content/drive/Shareddrives/PFA_Dataset/images'\n",
    "\n",
    "# Call the function to process users in chunks\n",
    "process_users_in_chunks(folder_path)\n"
   ]
  },
  {
   "cell_type": "markdown",
   "metadata": {
    "id": "b4lscdDfzTTu"
   },
   "source": [
    "---\n"
   ]
  },
  {
   "cell_type": "markdown",
   "metadata": {
    "id": "lj7ojRWRQGCz"
   },
   "source": [
    "##Preporocess images"
   ]
  },
  {
   "cell_type": "code",
   "outputs": [],
   "source": [
    "import numpy as np\n",
    "import tensorflow as tf\n",
    "from tensorflow.keras.utils import Sequence\n",
    "from PIL import UnidentifiedImageError\n",
    "\n",
    "class DataGenerator(Sequence):\n",
    "    def __init__(self, image_paths, labels, batch_size=32, img_size=(150, 150), n_classes=5, shuffle=True):\n",
    "        self.image_paths = image_paths\n",
    "        self.labels = labels\n",
    "        self.batch_size = batch_size\n",
    "        self.img_size = img_size\n",
    "        self.n_classes = n_classes\n",
    "        self.shuffle = shuffle\n",
    "        self.on_epoch_end()\n",
    "\n",
    "    def __len__(self):\n",
    "        return int(np.floor(len(self.image_paths) / self.batch_size))\n",
    "\n",
    "    def __getitem__(self, index):\n",
    "        indexes = self.indexes[index * self.batch_size:(index + 1) * self.batch_size]\n",
    "        image_paths_temp = [self.image_paths[k] for k in indexes]\n",
    "        labels_temp = [self.labels[k] for k in indexes]\n",
    "\n",
    "        X, y = self.__data_generation(image_paths_temp, labels_temp)\n",
    "\n",
    "        return X, y\n",
    "\n",
    "    def on_epoch_end(self):\n",
    "        self.indexes = np.arange(len(self.image_paths))\n",
    "        if self.shuffle:\n",
    "            np.random.shuffle(self.indexes)\n",
    "\n",
    "    def __data_generation(self, image_paths_temp, labels_temp):\n",
    "        X = np.empty((self.batch_size, *self.img_size, 3))\n",
    "        y = np.empty((self.batch_size, self.n_classes), dtype=int)\n",
    "\n",
    "        for i, (img_path, label) in enumerate(zip(image_paths_temp, labels_temp)):\n",
    "            try:\n",
    "                img = tf.keras.preprocessing.image.load_img(img_path, target_size=self.img_size)\n",
    "                img = tf.keras.preprocessing.image.img_to_array(img)\n",
    "                img = img / 255.0  # Normalize the image to [0, 1]\n",
    "            except (UnidentifiedImageError, IOError) as e:\n",
    "                print(f\"Error loading image {img_path}: {e}\")\n",
    "                img = np.zeros((*self.img_size, 3))  # Placeholder image\n",
    "\n",
    "            X[i,] = img\n",
    "            y[i,] = label\n",
    "\n",
    "        return X, y"
   ],
   "metadata": {
    "collapsed": false
   },
   "execution_count": 0
  },
  {
   "cell_type": "code",
   "outputs": [],
   "source": [
    "import os\n",
    "import numpy as np\n",
    "import pandas as pd\n",
    "\n",
    "\n",
    "path = '/content/drive/MyDrive/PFA-Dataset/datas/final_data.csv'\n",
    "images_path = '/content/drive/MyDrive/PFA-Dataset/Images'\n",
    "\n",
    "# Load the labels CSV file\n",
    "labels_df = pd.read_csv(path)\n",
    "\n",
    "# Create lists of image paths and corresponding labels\n",
    "image_paths = []\n",
    "labels = []\n",
    "not_found_users = []\n",
    "\n",
    "for _, row in labels_df.iterrows():\n",
    "    user_id = row['username']\n",
    "    user_labels = row[['O', 'C', 'E', 'A', 'N']].values\n",
    "    user_folder = f'{images_path}/{user_id}'\n",
    "\n",
    "    if os.path.exists(user_folder):\n",
    "        for image_name in os.listdir(user_folder):\n",
    "            image_paths.append(os.path.join(user_folder, image_name))\n",
    "            labels.append(user_labels)\n",
    "    else:\n",
    "        not_found_users.append(user_id)\n",
    "\n",
    "labels = np.array(labels)"
   ],
   "metadata": {
    "collapsed": false
   },
   "execution_count": 0
  },
  {
   "cell_type": "code",
   "outputs": [],
   "source": [
    "print(len(not_found_users))\n",
    "print(image_paths[:10])\n",
    "print(labels[:10])"
   ],
   "metadata": {
    "collapsed": false
   },
   "execution_count": 0
  }
 ],
 "metadata": {
  "accelerator": "GPU",
  "colab": {
   "collapsed_sections": [
    "t665-_4NQHZI",
    "9v-BmYVHObUa",
    "rlHaeJIoQUaC",
    "o1sVUFssOkMB",
    "GP5Wsmh-DzOp"
   ],
   "gpuType": "T4",
   "provenance": []
  },
  "kernelspec": {
   "display_name": "Python 3",
   "name": "python3"
  },
  "language_info": {
   "name": "python"
  }
 },
 "nbformat": 4,
 "nbformat_minor": 0
}
